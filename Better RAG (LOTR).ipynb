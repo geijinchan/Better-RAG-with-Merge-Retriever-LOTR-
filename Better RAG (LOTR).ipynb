{
  "nbformat": 4,
  "nbformat_minor": 0,
  "metadata": {
    "colab": {
      "provenance": [],
      "authorship_tag": "ABX9TyMJPvAmjnkBQSYwAydu4t1m",
      "include_colab_link": true
    },
    "kernelspec": {
      "name": "python3",
      "display_name": "Python 3"
    },
    "language_info": {
      "name": "python"
    }
  },
  "cells": [
    {
      "cell_type": "markdown",
      "metadata": {
        "id": "view-in-github",
        "colab_type": "text"
      },
      "source": [
        "<a href=\"https://colab.research.google.com/github/geijinchan/Better-RAG-with-Merge-Retriever-LOTR-/blob/main/Better%20RAG%20(LOTR).ipynb\" target=\"_parent\"><img src=\"https://colab.research.google.com/assets/colab-badge.svg\" alt=\"Open In Colab\"/></a>"
      ]
    },
    {
      "cell_type": "markdown",
      "source": [
        "## Installing Important Dependencies"
      ],
      "metadata": {
        "id": "GaNG-uOH_DAo"
      }
    },
    {
      "cell_type": "code",
      "source": [
        "!pip install chromadb langchain transformers sentence-transformers\n",
        "!pip install -U langchain-community\n",
        "!pip install pypdf"
      ],
      "metadata": {
        "colab": {
          "base_uri": "https://localhost:8080/"
        },
        "id": "N4perwzy-KjF",
        "outputId": "0e0baf2a-b811-40e4-fad5-89d2cca3a450"
      },
      "execution_count": 4,
      "outputs": [
        {
          "output_type": "stream",
          "name": "stdout",
          "text": [
            "Requirement already satisfied: chromadb in /usr/local/lib/python3.10/dist-packages (0.5.5)\n",
            "Requirement already satisfied: langchain in /usr/local/lib/python3.10/dist-packages (0.2.16)\n",
            "Requirement already satisfied: transformers in /usr/local/lib/python3.10/dist-packages (4.42.4)\n",
            "Requirement already satisfied: sentence-transformers in /usr/local/lib/python3.10/dist-packages (3.1.0)\n",
            "Requirement already satisfied: build>=1.0.3 in /usr/local/lib/python3.10/dist-packages (from chromadb) (1.2.1)\n",
            "Requirement already satisfied: pydantic>=1.9 in /usr/local/lib/python3.10/dist-packages (from chromadb) (2.8.2)\n",
            "Requirement already satisfied: chroma-hnswlib==0.7.6 in /usr/local/lib/python3.10/dist-packages (from chromadb) (0.7.6)\n",
            "Requirement already satisfied: fastapi>=0.95.2 in /usr/local/lib/python3.10/dist-packages (from chromadb) (0.114.1)\n",
            "Requirement already satisfied: uvicorn>=0.18.3 in /usr/local/lib/python3.10/dist-packages (from uvicorn[standard]>=0.18.3->chromadb) (0.30.6)\n",
            "Requirement already satisfied: numpy<2.0.0,>=1.22.5 in /usr/local/lib/python3.10/dist-packages (from chromadb) (1.25.2)\n",
            "Requirement already satisfied: posthog>=2.4.0 in /usr/local/lib/python3.10/dist-packages (from chromadb) (3.6.5)\n",
            "Requirement already satisfied: typing-extensions>=4.5.0 in /usr/local/lib/python3.10/dist-packages (from chromadb) (4.12.2)\n",
            "Requirement already satisfied: onnxruntime>=1.14.1 in /usr/local/lib/python3.10/dist-packages (from chromadb) (1.19.2)\n",
            "Requirement already satisfied: opentelemetry-api>=1.2.0 in /usr/local/lib/python3.10/dist-packages (from chromadb) (1.27.0)\n",
            "Requirement already satisfied: opentelemetry-exporter-otlp-proto-grpc>=1.2.0 in /usr/local/lib/python3.10/dist-packages (from chromadb) (1.27.0)\n",
            "Requirement already satisfied: opentelemetry-instrumentation-fastapi>=0.41b0 in /usr/local/lib/python3.10/dist-packages (from chromadb) (0.48b0)\n",
            "Requirement already satisfied: opentelemetry-sdk>=1.2.0 in /usr/local/lib/python3.10/dist-packages (from chromadb) (1.27.0)\n",
            "Requirement already satisfied: tokenizers>=0.13.2 in /usr/local/lib/python3.10/dist-packages (from chromadb) (0.19.1)\n",
            "Requirement already satisfied: pypika>=0.48.9 in /usr/local/lib/python3.10/dist-packages (from chromadb) (0.48.9)\n",
            "Requirement already satisfied: tqdm>=4.65.0 in /usr/local/lib/python3.10/dist-packages (from chromadb) (4.66.4)\n",
            "Requirement already satisfied: overrides>=7.3.1 in /usr/local/lib/python3.10/dist-packages (from chromadb) (7.7.0)\n",
            "Requirement already satisfied: importlib-resources in /usr/local/lib/python3.10/dist-packages (from chromadb) (6.4.0)\n",
            "Requirement already satisfied: grpcio>=1.58.0 in /usr/local/lib/python3.10/dist-packages (from chromadb) (1.64.1)\n",
            "Requirement already satisfied: bcrypt>=4.0.1 in /usr/local/lib/python3.10/dist-packages (from chromadb) (4.2.0)\n",
            "Requirement already satisfied: typer>=0.9.0 in /usr/local/lib/python3.10/dist-packages (from chromadb) (0.12.3)\n",
            "Requirement already satisfied: kubernetes>=28.1.0 in /usr/local/lib/python3.10/dist-packages (from chromadb) (30.1.0)\n",
            "Requirement already satisfied: tenacity>=8.2.3 in /usr/local/lib/python3.10/dist-packages (from chromadb) (8.5.0)\n",
            "Requirement already satisfied: PyYAML>=6.0.0 in /usr/local/lib/python3.10/dist-packages (from chromadb) (6.0.1)\n",
            "Requirement already satisfied: mmh3>=4.0.1 in /usr/local/lib/python3.10/dist-packages (from chromadb) (4.1.0)\n",
            "Requirement already satisfied: orjson>=3.9.12 in /usr/local/lib/python3.10/dist-packages (from chromadb) (3.10.7)\n",
            "Requirement already satisfied: httpx>=0.27.0 in /usr/local/lib/python3.10/dist-packages (from chromadb) (0.27.2)\n",
            "Requirement already satisfied: SQLAlchemy<3,>=1.4 in /usr/local/lib/python3.10/dist-packages (from langchain) (2.0.31)\n",
            "Requirement already satisfied: aiohttp<4.0.0,>=3.8.3 in /usr/local/lib/python3.10/dist-packages (from langchain) (3.9.5)\n",
            "Requirement already satisfied: async-timeout<5.0.0,>=4.0.0 in /usr/local/lib/python3.10/dist-packages (from langchain) (4.0.3)\n",
            "Requirement already satisfied: langchain-core<0.3.0,>=0.2.38 in /usr/local/lib/python3.10/dist-packages (from langchain) (0.2.39)\n",
            "Requirement already satisfied: langchain-text-splitters<0.3.0,>=0.2.0 in /usr/local/lib/python3.10/dist-packages (from langchain) (0.2.4)\n",
            "Requirement already satisfied: langsmith<0.2.0,>=0.1.17 in /usr/local/lib/python3.10/dist-packages (from langchain) (0.1.119)\n",
            "Requirement already satisfied: requests<3,>=2 in /usr/local/lib/python3.10/dist-packages (from langchain) (2.31.0)\n",
            "Requirement already satisfied: filelock in /usr/local/lib/python3.10/dist-packages (from transformers) (3.15.4)\n",
            "Requirement already satisfied: huggingface-hub<1.0,>=0.23.2 in /usr/local/lib/python3.10/dist-packages (from transformers) (0.23.5)\n",
            "Requirement already satisfied: packaging>=20.0 in /usr/local/lib/python3.10/dist-packages (from transformers) (24.1)\n",
            "Requirement already satisfied: regex!=2019.12.17 in /usr/local/lib/python3.10/dist-packages (from transformers) (2024.5.15)\n",
            "Requirement already satisfied: safetensors>=0.4.1 in /usr/local/lib/python3.10/dist-packages (from transformers) (0.4.3)\n",
            "Requirement already satisfied: torch>=1.11.0 in /usr/local/lib/python3.10/dist-packages (from sentence-transformers) (2.3.1+cu121)\n",
            "Requirement already satisfied: scikit-learn in /usr/local/lib/python3.10/dist-packages (from sentence-transformers) (1.2.2)\n",
            "Requirement already satisfied: scipy in /usr/local/lib/python3.10/dist-packages (from sentence-transformers) (1.11.4)\n",
            "Requirement already satisfied: Pillow in /usr/local/lib/python3.10/dist-packages (from sentence-transformers) (9.4.0)\n",
            "Requirement already satisfied: aiosignal>=1.1.2 in /usr/local/lib/python3.10/dist-packages (from aiohttp<4.0.0,>=3.8.3->langchain) (1.3.1)\n",
            "Requirement already satisfied: attrs>=17.3.0 in /usr/local/lib/python3.10/dist-packages (from aiohttp<4.0.0,>=3.8.3->langchain) (23.2.0)\n",
            "Requirement already satisfied: frozenlist>=1.1.1 in /usr/local/lib/python3.10/dist-packages (from aiohttp<4.0.0,>=3.8.3->langchain) (1.4.1)\n",
            "Requirement already satisfied: multidict<7.0,>=4.5 in /usr/local/lib/python3.10/dist-packages (from aiohttp<4.0.0,>=3.8.3->langchain) (6.0.5)\n",
            "Requirement already satisfied: yarl<2.0,>=1.0 in /usr/local/lib/python3.10/dist-packages (from aiohttp<4.0.0,>=3.8.3->langchain) (1.9.4)\n",
            "Requirement already satisfied: pyproject_hooks in /usr/local/lib/python3.10/dist-packages (from build>=1.0.3->chromadb) (1.1.0)\n",
            "Requirement already satisfied: tomli>=1.1.0 in /usr/local/lib/python3.10/dist-packages (from build>=1.0.3->chromadb) (2.0.1)\n",
            "Requirement already satisfied: starlette<0.39.0,>=0.37.2 in /usr/local/lib/python3.10/dist-packages (from fastapi>=0.95.2->chromadb) (0.38.5)\n",
            "Requirement already satisfied: anyio in /usr/local/lib/python3.10/dist-packages (from httpx>=0.27.0->chromadb) (3.7.1)\n",
            "Requirement already satisfied: certifi in /usr/local/lib/python3.10/dist-packages (from httpx>=0.27.0->chromadb) (2024.7.4)\n",
            "Requirement already satisfied: httpcore==1.* in /usr/local/lib/python3.10/dist-packages (from httpx>=0.27.0->chromadb) (1.0.5)\n",
            "Requirement already satisfied: idna in /usr/local/lib/python3.10/dist-packages (from httpx>=0.27.0->chromadb) (3.7)\n",
            "Requirement already satisfied: sniffio in /usr/local/lib/python3.10/dist-packages (from httpx>=0.27.0->chromadb) (1.3.1)\n",
            "Requirement already satisfied: h11<0.15,>=0.13 in /usr/local/lib/python3.10/dist-packages (from httpcore==1.*->httpx>=0.27.0->chromadb) (0.14.0)\n",
            "Requirement already satisfied: fsspec>=2023.5.0 in /usr/local/lib/python3.10/dist-packages (from huggingface-hub<1.0,>=0.23.2->transformers) (2023.6.0)\n",
            "Requirement already satisfied: six>=1.9.0 in /usr/local/lib/python3.10/dist-packages (from kubernetes>=28.1.0->chromadb) (1.16.0)\n",
            "Requirement already satisfied: python-dateutil>=2.5.3 in /usr/local/lib/python3.10/dist-packages (from kubernetes>=28.1.0->chromadb) (2.8.2)\n",
            "Requirement already satisfied: google-auth>=1.0.1 in /usr/local/lib/python3.10/dist-packages (from kubernetes>=28.1.0->chromadb) (2.27.0)\n",
            "Requirement already satisfied: websocket-client!=0.40.0,!=0.41.*,!=0.42.*,>=0.32.0 in /usr/local/lib/python3.10/dist-packages (from kubernetes>=28.1.0->chromadb) (1.8.0)\n",
            "Requirement already satisfied: requests-oauthlib in /usr/local/lib/python3.10/dist-packages (from kubernetes>=28.1.0->chromadb) (1.3.1)\n",
            "Requirement already satisfied: oauthlib>=3.2.2 in /usr/local/lib/python3.10/dist-packages (from kubernetes>=28.1.0->chromadb) (3.2.2)\n",
            "Requirement already satisfied: urllib3>=1.24.2 in /usr/local/lib/python3.10/dist-packages (from kubernetes>=28.1.0->chromadb) (2.0.7)\n",
            "Requirement already satisfied: jsonpatch<2.0,>=1.33 in /usr/local/lib/python3.10/dist-packages (from langchain-core<0.3.0,>=0.2.38->langchain) (1.33)\n",
            "Requirement already satisfied: coloredlogs in /usr/local/lib/python3.10/dist-packages (from onnxruntime>=1.14.1->chromadb) (15.0.1)\n",
            "Requirement already satisfied: flatbuffers in /usr/local/lib/python3.10/dist-packages (from onnxruntime>=1.14.1->chromadb) (24.3.25)\n",
            "Requirement already satisfied: protobuf in /usr/local/lib/python3.10/dist-packages (from onnxruntime>=1.14.1->chromadb) (3.20.3)\n",
            "Requirement already satisfied: sympy in /usr/local/lib/python3.10/dist-packages (from onnxruntime>=1.14.1->chromadb) (1.13.1)\n",
            "Requirement already satisfied: deprecated>=1.2.6 in /usr/local/lib/python3.10/dist-packages (from opentelemetry-api>=1.2.0->chromadb) (1.2.14)\n",
            "Requirement already satisfied: importlib-metadata<=8.4.0,>=6.0 in /usr/local/lib/python3.10/dist-packages (from opentelemetry-api>=1.2.0->chromadb) (8.0.0)\n",
            "Requirement already satisfied: googleapis-common-protos~=1.52 in /usr/local/lib/python3.10/dist-packages (from opentelemetry-exporter-otlp-proto-grpc>=1.2.0->chromadb) (1.63.2)\n",
            "Requirement already satisfied: opentelemetry-exporter-otlp-proto-common==1.27.0 in /usr/local/lib/python3.10/dist-packages (from opentelemetry-exporter-otlp-proto-grpc>=1.2.0->chromadb) (1.27.0)\n",
            "Requirement already satisfied: opentelemetry-proto==1.27.0 in /usr/local/lib/python3.10/dist-packages (from opentelemetry-exporter-otlp-proto-grpc>=1.2.0->chromadb) (1.27.0)\n",
            "Requirement already satisfied: opentelemetry-instrumentation-asgi==0.48b0 in /usr/local/lib/python3.10/dist-packages (from opentelemetry-instrumentation-fastapi>=0.41b0->chromadb) (0.48b0)\n",
            "Requirement already satisfied: opentelemetry-instrumentation==0.48b0 in /usr/local/lib/python3.10/dist-packages (from opentelemetry-instrumentation-fastapi>=0.41b0->chromadb) (0.48b0)\n",
            "Requirement already satisfied: opentelemetry-semantic-conventions==0.48b0 in /usr/local/lib/python3.10/dist-packages (from opentelemetry-instrumentation-fastapi>=0.41b0->chromadb) (0.48b0)\n",
            "Requirement already satisfied: opentelemetry-util-http==0.48b0 in /usr/local/lib/python3.10/dist-packages (from opentelemetry-instrumentation-fastapi>=0.41b0->chromadb) (0.48b0)\n",
            "Requirement already satisfied: setuptools>=16.0 in /usr/local/lib/python3.10/dist-packages (from opentelemetry-instrumentation==0.48b0->opentelemetry-instrumentation-fastapi>=0.41b0->chromadb) (71.0.4)\n",
            "Requirement already satisfied: wrapt<2.0.0,>=1.0.0 in /usr/local/lib/python3.10/dist-packages (from opentelemetry-instrumentation==0.48b0->opentelemetry-instrumentation-fastapi>=0.41b0->chromadb) (1.14.1)\n",
            "Requirement already satisfied: asgiref~=3.0 in /usr/local/lib/python3.10/dist-packages (from opentelemetry-instrumentation-asgi==0.48b0->opentelemetry-instrumentation-fastapi>=0.41b0->chromadb) (3.8.1)\n",
            "Requirement already satisfied: monotonic>=1.5 in /usr/local/lib/python3.10/dist-packages (from posthog>=2.4.0->chromadb) (1.6)\n",
            "Requirement already satisfied: backoff>=1.10.0 in /usr/local/lib/python3.10/dist-packages (from posthog>=2.4.0->chromadb) (2.2.1)\n",
            "Requirement already satisfied: annotated-types>=0.4.0 in /usr/local/lib/python3.10/dist-packages (from pydantic>=1.9->chromadb) (0.7.0)\n",
            "Requirement already satisfied: pydantic-core==2.20.1 in /usr/local/lib/python3.10/dist-packages (from pydantic>=1.9->chromadb) (2.20.1)\n",
            "Requirement already satisfied: charset-normalizer<4,>=2 in /usr/local/lib/python3.10/dist-packages (from requests<3,>=2->langchain) (3.3.2)\n",
            "Requirement already satisfied: greenlet!=0.4.17 in /usr/local/lib/python3.10/dist-packages (from SQLAlchemy<3,>=1.4->langchain) (3.0.3)\n",
            "Requirement already satisfied: networkx in /usr/local/lib/python3.10/dist-packages (from torch>=1.11.0->sentence-transformers) (3.3)\n",
            "Requirement already satisfied: jinja2 in /usr/local/lib/python3.10/dist-packages (from torch>=1.11.0->sentence-transformers) (3.1.4)\n",
            "Requirement already satisfied: nvidia-cuda-nvrtc-cu12==12.1.105 in /usr/local/lib/python3.10/dist-packages (from torch>=1.11.0->sentence-transformers) (12.1.105)\n",
            "Requirement already satisfied: nvidia-cuda-runtime-cu12==12.1.105 in /usr/local/lib/python3.10/dist-packages (from torch>=1.11.0->sentence-transformers) (12.1.105)\n",
            "Requirement already satisfied: nvidia-cuda-cupti-cu12==12.1.105 in /usr/local/lib/python3.10/dist-packages (from torch>=1.11.0->sentence-transformers) (12.1.105)\n",
            "Requirement already satisfied: nvidia-cudnn-cu12==8.9.2.26 in /usr/local/lib/python3.10/dist-packages (from torch>=1.11.0->sentence-transformers) (8.9.2.26)\n",
            "Requirement already satisfied: nvidia-cublas-cu12==12.1.3.1 in /usr/local/lib/python3.10/dist-packages (from torch>=1.11.0->sentence-transformers) (12.1.3.1)\n",
            "Requirement already satisfied: nvidia-cufft-cu12==11.0.2.54 in /usr/local/lib/python3.10/dist-packages (from torch>=1.11.0->sentence-transformers) (11.0.2.54)\n",
            "Requirement already satisfied: nvidia-curand-cu12==10.3.2.106 in /usr/local/lib/python3.10/dist-packages (from torch>=1.11.0->sentence-transformers) (10.3.2.106)\n",
            "Requirement already satisfied: nvidia-cusolver-cu12==11.4.5.107 in /usr/local/lib/python3.10/dist-packages (from torch>=1.11.0->sentence-transformers) (11.4.5.107)\n",
            "Requirement already satisfied: nvidia-cusparse-cu12==12.1.0.106 in /usr/local/lib/python3.10/dist-packages (from torch>=1.11.0->sentence-transformers) (12.1.0.106)\n",
            "Requirement already satisfied: nvidia-nccl-cu12==2.20.5 in /usr/local/lib/python3.10/dist-packages (from torch>=1.11.0->sentence-transformers) (2.20.5)\n",
            "Requirement already satisfied: nvidia-nvtx-cu12==12.1.105 in /usr/local/lib/python3.10/dist-packages (from torch>=1.11.0->sentence-transformers) (12.1.105)\n",
            "Requirement already satisfied: triton==2.3.1 in /usr/local/lib/python3.10/dist-packages (from torch>=1.11.0->sentence-transformers) (2.3.1)\n",
            "Requirement already satisfied: nvidia-nvjitlink-cu12 in /usr/local/lib/python3.10/dist-packages (from nvidia-cusolver-cu12==11.4.5.107->torch>=1.11.0->sentence-transformers) (12.6.68)\n",
            "Requirement already satisfied: click>=8.0.0 in /usr/local/lib/python3.10/dist-packages (from typer>=0.9.0->chromadb) (8.1.7)\n",
            "Requirement already satisfied: shellingham>=1.3.0 in /usr/local/lib/python3.10/dist-packages (from typer>=0.9.0->chromadb) (1.5.4)\n",
            "Requirement already satisfied: rich>=10.11.0 in /usr/local/lib/python3.10/dist-packages (from typer>=0.9.0->chromadb) (13.7.1)\n",
            "Requirement already satisfied: httptools>=0.5.0 in /usr/local/lib/python3.10/dist-packages (from uvicorn[standard]>=0.18.3->chromadb) (0.6.1)\n",
            "Requirement already satisfied: python-dotenv>=0.13 in /usr/local/lib/python3.10/dist-packages (from uvicorn[standard]>=0.18.3->chromadb) (1.0.1)\n",
            "Requirement already satisfied: uvloop!=0.15.0,!=0.15.1,>=0.14.0 in /usr/local/lib/python3.10/dist-packages (from uvicorn[standard]>=0.18.3->chromadb) (0.20.0)\n",
            "Requirement already satisfied: watchfiles>=0.13 in /usr/local/lib/python3.10/dist-packages (from uvicorn[standard]>=0.18.3->chromadb) (0.24.0)\n",
            "Requirement already satisfied: websockets>=10.4 in /usr/local/lib/python3.10/dist-packages (from uvicorn[standard]>=0.18.3->chromadb) (13.0.1)\n",
            "Requirement already satisfied: joblib>=1.1.1 in /usr/local/lib/python3.10/dist-packages (from scikit-learn->sentence-transformers) (1.4.2)\n",
            "Requirement already satisfied: threadpoolctl>=2.0.0 in /usr/local/lib/python3.10/dist-packages (from scikit-learn->sentence-transformers) (3.5.0)\n",
            "Requirement already satisfied: cachetools<6.0,>=2.0.0 in /usr/local/lib/python3.10/dist-packages (from google-auth>=1.0.1->kubernetes>=28.1.0->chromadb) (5.4.0)\n",
            "Requirement already satisfied: pyasn1-modules>=0.2.1 in /usr/local/lib/python3.10/dist-packages (from google-auth>=1.0.1->kubernetes>=28.1.0->chromadb) (0.4.0)\n",
            "Requirement already satisfied: rsa<5,>=3.1.4 in /usr/local/lib/python3.10/dist-packages (from google-auth>=1.0.1->kubernetes>=28.1.0->chromadb) (4.9)\n",
            "Requirement already satisfied: zipp>=0.5 in /usr/local/lib/python3.10/dist-packages (from importlib-metadata<=8.4.0,>=6.0->opentelemetry-api>=1.2.0->chromadb) (3.19.2)\n",
            "Requirement already satisfied: jsonpointer>=1.9 in /usr/local/lib/python3.10/dist-packages (from jsonpatch<2.0,>=1.33->langchain-core<0.3.0,>=0.2.38->langchain) (3.0.0)\n",
            "Requirement already satisfied: markdown-it-py>=2.2.0 in /usr/local/lib/python3.10/dist-packages (from rich>=10.11.0->typer>=0.9.0->chromadb) (3.0.0)\n",
            "Requirement already satisfied: pygments<3.0.0,>=2.13.0 in /usr/local/lib/python3.10/dist-packages (from rich>=10.11.0->typer>=0.9.0->chromadb) (2.16.1)\n",
            "Requirement already satisfied: exceptiongroup in /usr/local/lib/python3.10/dist-packages (from anyio->httpx>=0.27.0->chromadb) (1.2.2)\n",
            "Requirement already satisfied: humanfriendly>=9.1 in /usr/local/lib/python3.10/dist-packages (from coloredlogs->onnxruntime>=1.14.1->chromadb) (10.0)\n",
            "Requirement already satisfied: MarkupSafe>=2.0 in /usr/local/lib/python3.10/dist-packages (from jinja2->torch>=1.11.0->sentence-transformers) (2.1.5)\n",
            "Requirement already satisfied: mpmath<1.4,>=1.1.0 in /usr/local/lib/python3.10/dist-packages (from sympy->onnxruntime>=1.14.1->chromadb) (1.3.0)\n",
            "Requirement already satisfied: mdurl~=0.1 in /usr/local/lib/python3.10/dist-packages (from markdown-it-py>=2.2.0->rich>=10.11.0->typer>=0.9.0->chromadb) (0.1.2)\n",
            "Requirement already satisfied: pyasn1<0.7.0,>=0.4.6 in /usr/local/lib/python3.10/dist-packages (from pyasn1-modules>=0.2.1->google-auth>=1.0.1->kubernetes>=28.1.0->chromadb) (0.6.0)\n",
            "Requirement already satisfied: langchain-community in /usr/local/lib/python3.10/dist-packages (0.2.16)\n",
            "Requirement already satisfied: PyYAML>=5.3 in /usr/local/lib/python3.10/dist-packages (from langchain-community) (6.0.1)\n",
            "Requirement already satisfied: SQLAlchemy<3,>=1.4 in /usr/local/lib/python3.10/dist-packages (from langchain-community) (2.0.31)\n",
            "Requirement already satisfied: aiohttp<4.0.0,>=3.8.3 in /usr/local/lib/python3.10/dist-packages (from langchain-community) (3.9.5)\n",
            "Requirement already satisfied: dataclasses-json<0.7,>=0.5.7 in /usr/local/lib/python3.10/dist-packages (from langchain-community) (0.6.7)\n",
            "Requirement already satisfied: langchain<0.3.0,>=0.2.16 in /usr/local/lib/python3.10/dist-packages (from langchain-community) (0.2.16)\n",
            "Requirement already satisfied: langchain-core<0.3.0,>=0.2.38 in /usr/local/lib/python3.10/dist-packages (from langchain-community) (0.2.39)\n",
            "Requirement already satisfied: langsmith<0.2.0,>=0.1.0 in /usr/local/lib/python3.10/dist-packages (from langchain-community) (0.1.119)\n",
            "Requirement already satisfied: numpy<2,>=1 in /usr/local/lib/python3.10/dist-packages (from langchain-community) (1.25.2)\n",
            "Requirement already satisfied: requests<3,>=2 in /usr/local/lib/python3.10/dist-packages (from langchain-community) (2.31.0)\n",
            "Requirement already satisfied: tenacity!=8.4.0,<9.0.0,>=8.1.0 in /usr/local/lib/python3.10/dist-packages (from langchain-community) (8.5.0)\n",
            "Requirement already satisfied: aiosignal>=1.1.2 in /usr/local/lib/python3.10/dist-packages (from aiohttp<4.0.0,>=3.8.3->langchain-community) (1.3.1)\n",
            "Requirement already satisfied: attrs>=17.3.0 in /usr/local/lib/python3.10/dist-packages (from aiohttp<4.0.0,>=3.8.3->langchain-community) (23.2.0)\n",
            "Requirement already satisfied: frozenlist>=1.1.1 in /usr/local/lib/python3.10/dist-packages (from aiohttp<4.0.0,>=3.8.3->langchain-community) (1.4.1)\n",
            "Requirement already satisfied: multidict<7.0,>=4.5 in /usr/local/lib/python3.10/dist-packages (from aiohttp<4.0.0,>=3.8.3->langchain-community) (6.0.5)\n",
            "Requirement already satisfied: yarl<2.0,>=1.0 in /usr/local/lib/python3.10/dist-packages (from aiohttp<4.0.0,>=3.8.3->langchain-community) (1.9.4)\n",
            "Requirement already satisfied: async-timeout<5.0,>=4.0 in /usr/local/lib/python3.10/dist-packages (from aiohttp<4.0.0,>=3.8.3->langchain-community) (4.0.3)\n",
            "Requirement already satisfied: marshmallow<4.0.0,>=3.18.0 in /usr/local/lib/python3.10/dist-packages (from dataclasses-json<0.7,>=0.5.7->langchain-community) (3.22.0)\n",
            "Requirement already satisfied: typing-inspect<1,>=0.4.0 in /usr/local/lib/python3.10/dist-packages (from dataclasses-json<0.7,>=0.5.7->langchain-community) (0.9.0)\n",
            "Requirement already satisfied: langchain-text-splitters<0.3.0,>=0.2.0 in /usr/local/lib/python3.10/dist-packages (from langchain<0.3.0,>=0.2.16->langchain-community) (0.2.4)\n",
            "Requirement already satisfied: pydantic<3,>=1 in /usr/local/lib/python3.10/dist-packages (from langchain<0.3.0,>=0.2.16->langchain-community) (2.8.2)\n",
            "Requirement already satisfied: jsonpatch<2.0,>=1.33 in /usr/local/lib/python3.10/dist-packages (from langchain-core<0.3.0,>=0.2.38->langchain-community) (1.33)\n",
            "Requirement already satisfied: packaging<25,>=23.2 in /usr/local/lib/python3.10/dist-packages (from langchain-core<0.3.0,>=0.2.38->langchain-community) (24.1)\n",
            "Requirement already satisfied: typing-extensions>=4.7 in /usr/local/lib/python3.10/dist-packages (from langchain-core<0.3.0,>=0.2.38->langchain-community) (4.12.2)\n",
            "Requirement already satisfied: httpx<1,>=0.23.0 in /usr/local/lib/python3.10/dist-packages (from langsmith<0.2.0,>=0.1.0->langchain-community) (0.27.2)\n",
            "Requirement already satisfied: orjson<4.0.0,>=3.9.14 in /usr/local/lib/python3.10/dist-packages (from langsmith<0.2.0,>=0.1.0->langchain-community) (3.10.7)\n",
            "Requirement already satisfied: charset-normalizer<4,>=2 in /usr/local/lib/python3.10/dist-packages (from requests<3,>=2->langchain-community) (3.3.2)\n",
            "Requirement already satisfied: idna<4,>=2.5 in /usr/local/lib/python3.10/dist-packages (from requests<3,>=2->langchain-community) (3.7)\n",
            "Requirement already satisfied: urllib3<3,>=1.21.1 in /usr/local/lib/python3.10/dist-packages (from requests<3,>=2->langchain-community) (2.0.7)\n",
            "Requirement already satisfied: certifi>=2017.4.17 in /usr/local/lib/python3.10/dist-packages (from requests<3,>=2->langchain-community) (2024.7.4)\n",
            "Requirement already satisfied: greenlet!=0.4.17 in /usr/local/lib/python3.10/dist-packages (from SQLAlchemy<3,>=1.4->langchain-community) (3.0.3)\n",
            "Requirement already satisfied: anyio in /usr/local/lib/python3.10/dist-packages (from httpx<1,>=0.23.0->langsmith<0.2.0,>=0.1.0->langchain-community) (3.7.1)\n",
            "Requirement already satisfied: httpcore==1.* in /usr/local/lib/python3.10/dist-packages (from httpx<1,>=0.23.0->langsmith<0.2.0,>=0.1.0->langchain-community) (1.0.5)\n",
            "Requirement already satisfied: sniffio in /usr/local/lib/python3.10/dist-packages (from httpx<1,>=0.23.0->langsmith<0.2.0,>=0.1.0->langchain-community) (1.3.1)\n",
            "Requirement already satisfied: h11<0.15,>=0.13 in /usr/local/lib/python3.10/dist-packages (from httpcore==1.*->httpx<1,>=0.23.0->langsmith<0.2.0,>=0.1.0->langchain-community) (0.14.0)\n",
            "Requirement already satisfied: jsonpointer>=1.9 in /usr/local/lib/python3.10/dist-packages (from jsonpatch<2.0,>=1.33->langchain-core<0.3.0,>=0.2.38->langchain-community) (3.0.0)\n",
            "Requirement already satisfied: annotated-types>=0.4.0 in /usr/local/lib/python3.10/dist-packages (from pydantic<3,>=1->langchain<0.3.0,>=0.2.16->langchain-community) (0.7.0)\n",
            "Requirement already satisfied: pydantic-core==2.20.1 in /usr/local/lib/python3.10/dist-packages (from pydantic<3,>=1->langchain<0.3.0,>=0.2.16->langchain-community) (2.20.1)\n",
            "Requirement already satisfied: mypy-extensions>=0.3.0 in /usr/local/lib/python3.10/dist-packages (from typing-inspect<1,>=0.4.0->dataclasses-json<0.7,>=0.5.7->langchain-community) (1.0.0)\n",
            "Requirement already satisfied: exceptiongroup in /usr/local/lib/python3.10/dist-packages (from anyio->httpx<1,>=0.23.0->langsmith<0.2.0,>=0.1.0->langchain-community) (1.2.2)\n",
            "Requirement already satisfied: pypdf in /usr/local/lib/python3.10/dist-packages (4.3.1)\n",
            "Requirement already satisfied: typing_extensions>=4.0 in /usr/local/lib/python3.10/dist-packages (from pypdf) (4.12.2)\n"
          ]
        }
      ]
    },
    {
      "cell_type": "markdown",
      "source": [
        "## Importing necessary dependencies"
      ],
      "metadata": {
        "id": "iLQYX1Al_K9m"
      }
    },
    {
      "cell_type": "code",
      "execution_count": 5,
      "metadata": {
        "id": "Ju3e4F8Y811y"
      },
      "outputs": [],
      "source": [
        "import chromadb, torch, os\n",
        "from langchain.document_transformers import (\n",
        "    LongContextReorder,\n",
        ")\n",
        "from langchain.chains import StuffDocumentsChain, LLMChain\n",
        "from langchain.prompts import PromptTemplate\n",
        "from langchain.embeddings import HuggingFaceBgeEmbeddings\n",
        "from langchain.retrievers.merger_retriever import MergerRetriever\n",
        "from langchain.document_loaders import PyPDFLoader\n",
        "from langchain.text_splitter import RecursiveCharacterTextSplitter\n",
        "\n",
        "from langchain_community.vectorstores import Chroma"
      ]
    },
    {
      "cell_type": "markdown",
      "source": [
        "## Getting the embedding model"
      ],
      "metadata": {
        "id": "wXQGpnzY_R0f"
      }
    },
    {
      "cell_type": "code",
      "source": [
        "model_name = \"BAAI/bge-large-en\"\n",
        "model_kwargs = {'device': 'cpu'}\n",
        "encode_kwargs = {'normalize_embedding': False}\n",
        "hf = HuggingFaceBgeEmbeddings(\n",
        "    model_name=model_name,\n",
        "    model_kwargs=model_kwargs,\n",
        "    encode_kwargs=encode_kwargs,\n",
        ")"
      ],
      "metadata": {
        "id": "iw-4RuA394hP"
      },
      "execution_count": 7,
      "outputs": []
    },
    {
      "cell_type": "code",
      "source": [
        "print(f\"Embedding model loaded \\n{hf}\")"
      ],
      "metadata": {
        "colab": {
          "base_uri": "https://localhost:8080/"
        },
        "id": "SLTYinN5_iu0",
        "outputId": "ad1e2e42-45ac-40d2-fd10-73f2779e84cb"
      },
      "execution_count": 8,
      "outputs": [
        {
          "output_type": "stream",
          "name": "stdout",
          "text": [
            "Embedding model loaded \n",
            "client=SentenceTransformer(\n",
            "  (0): Transformer({'max_seq_length': 512, 'do_lower_case': True}) with Transformer model: BertModel \n",
            "  (1): Pooling({'word_embedding_dimension': 1024, 'pooling_mode_cls_token': True, 'pooling_mode_mean_tokens': False, 'pooling_mode_max_tokens': False, 'pooling_mode_mean_sqrt_len_tokens': False, 'pooling_mode_weightedmean_tokens': False, 'pooling_mode_lasttoken': False, 'include_prompt': True})\n",
            "  (2): Normalize()\n",
            ") model_name='BAAI/bge-large-en' cache_folder=None model_kwargs={'device': 'cpu'} encode_kwargs={'normalize_embedding': False} query_instruction='Represent this question for searching relevant passages: ' embed_instruction='' show_progress=False\n"
          ]
        }
      ]
    },
    {
      "cell_type": "code",
      "source": [
        "## Data Preprocessing\n",
        "\n",
        "loader_un_sdg = PyPDFLoader(\"UN SDG.pdf\")\n",
        "documents_un_sdg = loader_un_sdg.load()\n",
        "text_splitter_un_sdg = RecursiveCharacterTextSplitter(chunk_size=1000, chunk_overlap=100)\n",
        "texts_un_sdg = text_splitter_un_sdg.split_documents(documents_un_sdg)"
      ],
      "metadata": {
        "id": "TzR2pT9V_n37"
      },
      "execution_count": 11,
      "outputs": []
    },
    {
      "cell_type": "code",
      "source": [
        "## Data Preprocessing\n",
        "\n",
        "loader_paris_agreement = PyPDFLoader(\"english_paris_agreement.pdf\")\n",
        "documents_paris_agreement = loader_paris_agreement.load()\n",
        "text_splitter_paris_agreement = RecursiveCharacterTextSplitter(chunk_size=1000,chunk_overlap=100)\n",
        "texts_paris_agreement = text_splitter_paris_agreement.split_documents(documents_paris_agreement)"
      ],
      "metadata": {
        "id": "7MhX1bOzBcRC"
      },
      "execution_count": 12,
      "outputs": []
    },
    {
      "cell_type": "markdown",
      "source": [
        "## Create and Store Vectors"
      ],
      "metadata": {
        "id": "yalTVgnZ2I1T"
      }
    },
    {
      "cell_type": "code",
      "source": [
        "un_sdg_store = Chroma.from_documents(texts_un_sdg, hf, collection_metadata={\"hnsw:space\": \"cosine\"}, persist_directory=\"store/un_sdg_chroma_cosine\")\n",
        "paris_agreement_store = Chroma.from_documents(texts_paris_agreement, hf, collection_metadata={\"hnsw:space\": \"cosine\"}, persist_directory=\"store/paris_chroma_cosine\")"
      ],
      "metadata": {
        "id": "Gbg-X8XA2Ih1"
      },
      "execution_count": 13,
      "outputs": []
    },
    {
      "cell_type": "markdown",
      "source": [
        "## Load the vector store"
      ],
      "metadata": {
        "id": "ly6GhQzO3xbJ"
      }
    },
    {
      "cell_type": "code",
      "source": [
        "load_un_store = Chroma(persist_directory = \"store/un_sdg_chroma_cosine\",embedding_function=hf)\n",
        "load_paris_store = Chroma(persist_directory = \"store/paris_chroma_cosine\",embedding_function=hf)"
      ],
      "metadata": {
        "colab": {
          "base_uri": "https://localhost:8080/"
        },
        "id": "cBaP25i0SDCr",
        "outputId": "862bfdda-52dd-435d-bccf-d017e9929fdc"
      },
      "execution_count": 14,
      "outputs": [
        {
          "output_type": "stream",
          "name": "stderr",
          "text": [
            "<ipython-input-14-1ed27266d23e>:1: LangChainDeprecationWarning: The class `Chroma` was deprecated in LangChain 0.2.9 and will be removed in 1.0. An updated version of the class exists in the langchain-chroma package and should be used instead. To use it run `pip install -U langchain-chroma` and import as `from langchain_chroma import Chroma`.\n",
            "  load_un_store = Chroma(persist_directory = \"store/un_sdg_chroma_cosine\",embedding_function=hf)\n"
          ]
        }
      ]
    },
    {
      "cell_type": "markdown",
      "source": [
        "## Init Mege Retriever and Perform Semantic Search"
      ],
      "metadata": {
        "id": "HkxB5xhG4zSb"
      }
    },
    {
      "cell_type": "code",
      "source": [
        "retriever_un_sdg = load_un_store.as_retriever(search_type = \"similarity\", search_kwargs = {\"k\":3})\n",
        "retriever_paris_agreement = load_paris_store.as_retriever(search_type = \"similarity\", search_kwargs = {\"k\":3})"
      ],
      "metadata": {
        "id": "3lgrYFCdSDiA"
      },
      "execution_count": 15,
      "outputs": []
    },
    {
      "cell_type": "code",
      "source": [
        "lotr = MergerRetriever(retrievers=[retriever_un_sdg, retriever_paris_agreement])\n",
        "query = \"What does the goal 16 talks about\"\n",
        "docs = lotr.get_relevant_documents(query)\n",
        "docs"
      ],
      "metadata": {
        "colab": {
          "base_uri": "https://localhost:8080/"
        },
        "id": "XkEIDqps1GEr",
        "outputId": "bf26927e-6985-44c1-c98e-22c099cab37d"
      },
      "execution_count": 18,
      "outputs": [
        {
          "output_type": "stream",
          "name": "stderr",
          "text": [
            "<ipython-input-18-377d228a17ce>:3: LangChainDeprecationWarning: The method `BaseRetriever.get_relevant_documents` was deprecated in langchain-core 0.1.46 and will be removed in 1.0. Use invoke instead.\n",
            "  docs = lotr.get_relevant_documents(query)\n"
          ]
        },
        {
          "output_type": "execute_result",
          "data": {
            "text/plain": [
              "[Document(metadata={'page': 29, 'source': 'UN SDG.pdf'}, page_content='!!Goal!16.!Promote!peaceful!and!inclusive!societies!for!sustainable!development,!provide!access!to!justice!for!all!and!build!effective,!accountable!and!inclusive!institutions!at!all!levels!+16.1+Significantly+reduce+all+forms+of+violence+and+related+death+rates+everywhere++16.2+End+ abuse,+ exploitation,+ trafficking+ and+ all+ forms+ of+ violence+ against+ and+ torture+ of+children++16.3+Promote+the+rule+of+law+at+the+national+and+international+levels+and+ensure+equal+access+to+justice+for+all++16.4+By+2030,+significantly+reduce+illicit+financial+and+arms+flows,+strengthen+the+recovery+and+return+of+stolen+assets+and+combat+all+forms+of+organized+crime++16.5+Substantially+reduce+corruption+and+bribery+in+all+their+forms++16.6+Develop+effective,+accountable+and+transparent+institutions+at+all+levels++16.7+Ensure+ responsive,+ inclusive,+ participatory+ and+ representative+ decisionJmaking+ at+'),\n",
              " Document(metadata={'page': 7, 'source': 'english_paris_agreement.pdf'}, page_content='16. Parties, including regional economic integration organizations and their \\nmember States, that have reached an agreement to act jointly under paragraph 2 of \\nthis Article shall notify the secretariat of the terms of that agreement, including the \\nemission level allocated to each Party within the relevant time period, when they \\ncommunicate their nationally determined contributions. The secretariat shall in turn \\ninform the Parties and signatories to the Convention of the terms of that agreement. \\n17. Each party to such an agreement shall be responsible for its emission level as \\nset out in the agreement referred to in paragraph 16 of this Article in accordance \\nwith paragraphs 13 and 14 of this Article and Articles 13 and 15. \\n18. If Parties acting jointly do so in the framework of, and together with, a \\nregional economic integration organization which is itself a Party to this \\nAgreement, each member State of that regional economic integration organization'),\n",
              " Document(metadata={'page': 17, 'source': 'UN SDG.pdf'}, page_content='forests,+ combat+ desertification,+ and+ halt+ and+ reverse+ land+ degradation+ and+ halt+biodiversity+loss+Goal+16.+Promote+peaceful+and+inclusive+societies+for+sustainable+development,+provide+access+to+justice+for+all+and+build+effective,+accountable+and+inclusive+institutions+at+all+levels+Goal+17.+Strengthen+the+means+of+implementation+and+revitalize+the+Global+Partnership+for+Sustainable+Development++++*+Acknowledging+ that+ the+ United+ Nations+ Framework+ Convention+ on+ Climate+ Change+ is+ the+ primary+international,+intergovernmental+forum+for+negotiating+the+global+response+to+climate+change.+!+++++'),\n",
              " Document(metadata={'page': 5, 'source': 'english_paris_agreement.pdf'}, page_content=\"Article 23 \\n1. In order to achieve the long-term temperature goal set out in Article 2, \\nParties aim to reach global peaking of greenhouse gas emissions as soon as \\npossible, recognizing that peaking will take longer for developing country Parties, \\nand to undertake rapid reductions thereafter in accordance with best available \\nscience, so as to achieve a balance between anthropogenic emissions by sources \\nand removals by sinks of greenhouse gases in the second half of this century, on the \\nbasis of equity, and in the context of sustainable development and efforts to \\neradicate poverty. \\n2. Each Party shall prepare, communicate and maintain successive nationally \\ndetermined contributions that it intends to achieve. Parties shall pursue domestic \\nmitigation measures, with the aim of achieving the objectives of such \\ncontributions. \\n3. Each Party's successive nationally determined contribution will represent a\"),\n",
              " Document(metadata={'page': 29, 'source': 'UN SDG.pdf'}, page_content='at+ all+levels++16.8+Broaden+and+strengthen+the+participation+of+developing+countries+in+the+institutions+of+global+governance++16.9+By+2030,+provide+legal+identity+for+all,+including+birth+registration++16.10+Ensure+public+access+to+information+and+protect+fundamental+freedoms,+in+accordance+with+national+legislation+and+international+agreements++16.a+Strengthen+relevant+national+institutions,+including+through+international+cooperation,+for+building+capacity+at+all+levels,+in+particular+in+developing+countries,+to+prevent+violence+and+combat+terrorism+and+crime++16.b+Promote+and+enforce+nonJdiscriminatory+laws+and+policies+for+sustainable+development+++!!Goal!17.!Strengthen!the!means!of!implementation!and!revitalize!the!Global!Partnership!for!Sustainable!Development!+!!Finance!+17.1+Strengthen+domestic+resource+mobilization,+including+through+international+support+to+developing+countries,+to+improve+domestic+capacity+for+tax+and+other+revenue+collection++17.2+Developed+ countries+'),\n",
              " Document(metadata={'page': 20, 'source': 'english_paris_agreement.pdf'}, page_content='committee that shall be expert-based and facilitative in nature and function in a \\nmanner that is transparent, non-adversarial and non-punitive. The committee shall \\npay particular attention to the respective national capabilities and circumstances of \\nParties. \\n3. The committee shall operate under the modalities and procedures adopted by \\nthe Conference of the Parties serving as the meeting of the Parties to this \\nAgreement at its first session and report annually to the Conference of the Parties \\nserving as the meeting of the Parties to this Agreement. \\nArticle 16 \\n1. The Conference of the Parties, the supreme body of the Convention, shall \\nserve as the meeting of the Parties to this Agreement. \\n2. Parties to the Convention that are not Parties to this Agreement may \\nparticipate as observers in the proceedings of any session of the Conference of the \\nParties serving as the meeting of the Parties to this Agreement. When the')]"
            ]
          },
          "metadata": {},
          "execution_count": 18
        }
      ]
    },
    {
      "cell_type": "code",
      "source": [
        "## Long Context Reorder (Lost in the Middlee Problem Fix)\n",
        "\n",
        "https://arxiv.org/abs/2307.03172"
      ],
      "metadata": {
        "id": "H0FGY44399UU"
      },
      "execution_count": 16,
      "outputs": []
    },
    {
      "cell_type": "code",
      "source": [
        "recording = LongContextReorder()\n",
        "\n",
        "reordered_docs = recording.transform_documents(docs)\n",
        "\n",
        "reordered_docs"
      ],
      "metadata": {
        "colab": {
          "base_uri": "https://localhost:8080/"
        },
        "id": "_tmVvMtF6qte",
        "outputId": "0fa3f97f-ed9f-461e-be2c-150dbb6e7f7c"
      },
      "execution_count": 19,
      "outputs": [
        {
          "output_type": "execute_result",
          "data": {
            "text/plain": [
              "[Document(metadata={'page': 7, 'source': 'english_paris_agreement.pdf'}, page_content='16. Parties, including regional economic integration organizations and their \\nmember States, that have reached an agreement to act jointly under paragraph 2 of \\nthis Article shall notify the secretariat of the terms of that agreement, including the \\nemission level allocated to each Party within the relevant time period, when they \\ncommunicate their nationally determined contributions. The secretariat shall in turn \\ninform the Parties and signatories to the Convention of the terms of that agreement. \\n17. Each party to such an agreement shall be responsible for its emission level as \\nset out in the agreement referred to in paragraph 16 of this Article in accordance \\nwith paragraphs 13 and 14 of this Article and Articles 13 and 15. \\n18. If Parties acting jointly do so in the framework of, and together with, a \\nregional economic integration organization which is itself a Party to this \\nAgreement, each member State of that regional economic integration organization'),\n",
              " Document(metadata={'page': 5, 'source': 'english_paris_agreement.pdf'}, page_content=\"Article 23 \\n1. In order to achieve the long-term temperature goal set out in Article 2, \\nParties aim to reach global peaking of greenhouse gas emissions as soon as \\npossible, recognizing that peaking will take longer for developing country Parties, \\nand to undertake rapid reductions thereafter in accordance with best available \\nscience, so as to achieve a balance between anthropogenic emissions by sources \\nand removals by sinks of greenhouse gases in the second half of this century, on the \\nbasis of equity, and in the context of sustainable development and efforts to \\neradicate poverty. \\n2. Each Party shall prepare, communicate and maintain successive nationally \\ndetermined contributions that it intends to achieve. Parties shall pursue domestic \\nmitigation measures, with the aim of achieving the objectives of such \\ncontributions. \\n3. Each Party's successive nationally determined contribution will represent a\"),\n",
              " Document(metadata={'page': 20, 'source': 'english_paris_agreement.pdf'}, page_content='committee that shall be expert-based and facilitative in nature and function in a \\nmanner that is transparent, non-adversarial and non-punitive. The committee shall \\npay particular attention to the respective national capabilities and circumstances of \\nParties. \\n3. The committee shall operate under the modalities and procedures adopted by \\nthe Conference of the Parties serving as the meeting of the Parties to this \\nAgreement at its first session and report annually to the Conference of the Parties \\nserving as the meeting of the Parties to this Agreement. \\nArticle 16 \\n1. The Conference of the Parties, the supreme body of the Convention, shall \\nserve as the meeting of the Parties to this Agreement. \\n2. Parties to the Convention that are not Parties to this Agreement may \\nparticipate as observers in the proceedings of any session of the Conference of the \\nParties serving as the meeting of the Parties to this Agreement. When the'),\n",
              " Document(metadata={'page': 29, 'source': 'UN SDG.pdf'}, page_content='at+ all+levels++16.8+Broaden+and+strengthen+the+participation+of+developing+countries+in+the+institutions+of+global+governance++16.9+By+2030,+provide+legal+identity+for+all,+including+birth+registration++16.10+Ensure+public+access+to+information+and+protect+fundamental+freedoms,+in+accordance+with+national+legislation+and+international+agreements++16.a+Strengthen+relevant+national+institutions,+including+through+international+cooperation,+for+building+capacity+at+all+levels,+in+particular+in+developing+countries,+to+prevent+violence+and+combat+terrorism+and+crime++16.b+Promote+and+enforce+nonJdiscriminatory+laws+and+policies+for+sustainable+development+++!!Goal!17.!Strengthen!the!means!of!implementation!and!revitalize!the!Global!Partnership!for!Sustainable!Development!+!!Finance!+17.1+Strengthen+domestic+resource+mobilization,+including+through+international+support+to+developing+countries,+to+improve+domestic+capacity+for+tax+and+other+revenue+collection++17.2+Developed+ countries+'),\n",
              " Document(metadata={'page': 17, 'source': 'UN SDG.pdf'}, page_content='forests,+ combat+ desertification,+ and+ halt+ and+ reverse+ land+ degradation+ and+ halt+biodiversity+loss+Goal+16.+Promote+peaceful+and+inclusive+societies+for+sustainable+development,+provide+access+to+justice+for+all+and+build+effective,+accountable+and+inclusive+institutions+at+all+levels+Goal+17.+Strengthen+the+means+of+implementation+and+revitalize+the+Global+Partnership+for+Sustainable+Development++++*+Acknowledging+ that+ the+ United+ Nations+ Framework+ Convention+ on+ Climate+ Change+ is+ the+ primary+international,+intergovernmental+forum+for+negotiating+the+global+response+to+climate+change.+!+++++'),\n",
              " Document(metadata={'page': 29, 'source': 'UN SDG.pdf'}, page_content='!!Goal!16.!Promote!peaceful!and!inclusive!societies!for!sustainable!development,!provide!access!to!justice!for!all!and!build!effective,!accountable!and!inclusive!institutions!at!all!levels!+16.1+Significantly+reduce+all+forms+of+violence+and+related+death+rates+everywhere++16.2+End+ abuse,+ exploitation,+ trafficking+ and+ all+ forms+ of+ violence+ against+ and+ torture+ of+children++16.3+Promote+the+rule+of+law+at+the+national+and+international+levels+and+ensure+equal+access+to+justice+for+all++16.4+By+2030,+significantly+reduce+illicit+financial+and+arms+flows,+strengthen+the+recovery+and+return+of+stolen+assets+and+combat+all+forms+of+organized+crime++16.5+Substantially+reduce+corruption+and+bribery+in+all+their+forms++16.6+Develop+effective,+accountable+and+transparent+institutions+at+all+levels++16.7+Ensure+ responsive,+ inclusive,+ participatory+ and+ representative+ decisionJmaking+ at+')]"
            ]
          },
          "metadata": {},
          "execution_count": 19
        }
      ]
    },
    {
      "cell_type": "code",
      "source": [],
      "metadata": {
        "id": "SQuh1mx46zkB"
      },
      "execution_count": 33,
      "outputs": []
    },
    {
      "cell_type": "code",
      "source": [],
      "metadata": {
        "id": "4O4M0sob7OCf"
      },
      "execution_count": 33,
      "outputs": []
    },
    {
      "cell_type": "code",
      "source": [],
      "metadata": {
        "id": "jcGftyAV8sN7"
      },
      "execution_count": 33,
      "outputs": []
    },
    {
      "cell_type": "code",
      "source": [],
      "metadata": {
        "id": "IdldltqY_6-v"
      },
      "execution_count": 33,
      "outputs": []
    }
  ]
}